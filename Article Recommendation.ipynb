{
 "cells": [
  {
   "cell_type": "markdown",
   "id": "9055b3d9",
   "metadata": {
    "id": "9055b3d9"
   },
   "source": [
    "# Dataset Description"
   ]
  },
  {
   "cell_type": "markdown",
   "id": "e5d9dfb2",
   "metadata": {
    "id": "e5d9dfb2"
   },
   "source": [
    "1. 'timestamp': This column represents the timestamp of an event or interaction, indicating when it occurred.\n",
    "2. 'eventType': This column describes the type of event or interaction that took place. It could include values such as 'view',     'like', 'share', 'comment', or other event types related to user interactions with articles.\n",
    "3. 'contentId': This column contains a unique identifier for each article or content item. It serves as a key to associate user     interactions with specific articles.\n",
    "4. 'authorPersonId': This column represents the unique identifier of the author or person associated with the article.\n",
    "5. 'authorSessionId': This column contains a unique identifier for the author's session or interaction with the system.\n",
    "6. 'authorUserAgent': This column captures information about the author's user agent, which typically represents the web browser or client used to access the system.\n",
    "7. 'authorRegion': This column specifies the region or geographic location of the author.\n",
    "8. 'authorCountry': This column indicates the country of the author.\n",
    "9. 'contentType': This column describes the type of content, which could include values such as 'article', 'video', 'image', or     other content types.\n",
    "10. 'url': This column contains the URL or link associated with the article.\n",
    "11. 'title': This column stores the title or headline of the article.\n",
    "12. 'text': This column contains the main text or body of the article.\n",
    "13. 'lang': This column represents the language of the article, typically represented by a two-letter language code.\n",
    "14. 'personId': This column contains a unique identifier for each user or person interacting with the system.\n",
    "15. 'sessionId': This column represents a unique identifier for a user session, indicating a specific period of interaction with the system.\n",
    "16. 'userAgent': This column captures information about the user's user agent, similar to 'authorUserAgent'.\n",
    "17. 'userRegion': This column specifies the region or geographic location of the user.\n",
    "18. 'userCountry': This column indicates the country of the user."
   ]
  },
  {
   "cell_type": "code",
   "execution_count": 1,
   "id": "f99302fd",
   "metadata": {
    "id": "f99302fd"
   },
   "outputs": [],
   "source": [
    "import pandas as pd\n",
    "import numpy as np\n",
    "\n",
    "import matplotlib.pyplot as plt\n",
    "import seaborn as sns\n",
    "\n",
    "import nltk\n",
    "from nltk.stem import WordNetLemmatizer\n",
    "import pickle\n",
    "\n",
    "from sklearn.feature_extraction.text import TfidfVectorizer\n",
    "from sklearn.metrics.pairwise import cosine_similarity"
   ]
  },
  {
   "cell_type": "code",
   "execution_count": 2,
   "id": "df59edfc",
   "metadata": {
    "id": "df59edfc"
   },
   "outputs": [],
   "source": [
    "shared_articles_df = pd.read_csv('shared_articles.csv')"
   ]
  },
  {
   "cell_type": "code",
   "execution_count": 3,
   "id": "f2c28794",
   "metadata": {
    "colab": {
     "base_uri": "https://localhost:8080/",
     "height": 704
    },
    "id": "f2c28794",
    "outputId": "1ad588d5-3842-44b1-a7b6-63620cd24672"
   },
   "outputs": [
    {
     "data": {
      "text/html": [
       "<div>\n",
       "<style scoped>\n",
       "    .dataframe tbody tr th:only-of-type {\n",
       "        vertical-align: middle;\n",
       "    }\n",
       "\n",
       "    .dataframe tbody tr th {\n",
       "        vertical-align: top;\n",
       "    }\n",
       "\n",
       "    .dataframe thead th {\n",
       "        text-align: right;\n",
       "    }\n",
       "</style>\n",
       "<table border=\"1\" class=\"dataframe\">\n",
       "  <thead>\n",
       "    <tr style=\"text-align: right;\">\n",
       "      <th></th>\n",
       "      <th>timestamp</th>\n",
       "      <th>eventType</th>\n",
       "      <th>contentId</th>\n",
       "      <th>authorPersonId</th>\n",
       "      <th>authorSessionId</th>\n",
       "      <th>authorUserAgent</th>\n",
       "      <th>authorRegion</th>\n",
       "      <th>authorCountry</th>\n",
       "      <th>contentType</th>\n",
       "      <th>url</th>\n",
       "      <th>title</th>\n",
       "      <th>text</th>\n",
       "      <th>lang</th>\n",
       "    </tr>\n",
       "  </thead>\n",
       "  <tbody>\n",
       "    <tr>\n",
       "      <th>0</th>\n",
       "      <td>1459192779</td>\n",
       "      <td>CONTENT REMOVED</td>\n",
       "      <td>-6451309518266745024</td>\n",
       "      <td>4340306774493623681</td>\n",
       "      <td>8940341205206233829</td>\n",
       "      <td>NaN</td>\n",
       "      <td>NaN</td>\n",
       "      <td>NaN</td>\n",
       "      <td>HTML</td>\n",
       "      <td>http://www.nytimes.com/2016/03/28/business/dea...</td>\n",
       "      <td>Ethereum, a Virtual Currency, Enables Transact...</td>\n",
       "      <td>All of this work is still very early. The firs...</td>\n",
       "      <td>en</td>\n",
       "    </tr>\n",
       "    <tr>\n",
       "      <th>1</th>\n",
       "      <td>1459193988</td>\n",
       "      <td>CONTENT SHARED</td>\n",
       "      <td>-4110354420726924665</td>\n",
       "      <td>4340306774493623681</td>\n",
       "      <td>8940341205206233829</td>\n",
       "      <td>NaN</td>\n",
       "      <td>NaN</td>\n",
       "      <td>NaN</td>\n",
       "      <td>HTML</td>\n",
       "      <td>http://www.nytimes.com/2016/03/28/business/dea...</td>\n",
       "      <td>Ethereum, a Virtual Currency, Enables Transact...</td>\n",
       "      <td>All of this work is still very early. The firs...</td>\n",
       "      <td>en</td>\n",
       "    </tr>\n",
       "    <tr>\n",
       "      <th>2</th>\n",
       "      <td>1459194146</td>\n",
       "      <td>CONTENT SHARED</td>\n",
       "      <td>-7292285110016212249</td>\n",
       "      <td>4340306774493623681</td>\n",
       "      <td>8940341205206233829</td>\n",
       "      <td>NaN</td>\n",
       "      <td>NaN</td>\n",
       "      <td>NaN</td>\n",
       "      <td>HTML</td>\n",
       "      <td>http://cointelegraph.com/news/bitcoin-future-w...</td>\n",
       "      <td>Bitcoin Future: When GBPcoin of Branson Wins O...</td>\n",
       "      <td>The alarm clock wakes me at 8:00 with stream o...</td>\n",
       "      <td>en</td>\n",
       "    </tr>\n",
       "    <tr>\n",
       "      <th>3</th>\n",
       "      <td>1459194474</td>\n",
       "      <td>CONTENT SHARED</td>\n",
       "      <td>-6151852268067518688</td>\n",
       "      <td>3891637997717104548</td>\n",
       "      <td>-1457532940883382585</td>\n",
       "      <td>NaN</td>\n",
       "      <td>NaN</td>\n",
       "      <td>NaN</td>\n",
       "      <td>HTML</td>\n",
       "      <td>https://cloudplatform.googleblog.com/2016/03/G...</td>\n",
       "      <td>Google Data Center 360° Tour</td>\n",
       "      <td>We're excited to share the Google Data Center ...</td>\n",
       "      <td>en</td>\n",
       "    </tr>\n",
       "    <tr>\n",
       "      <th>4</th>\n",
       "      <td>1459194497</td>\n",
       "      <td>CONTENT SHARED</td>\n",
       "      <td>2448026894306402386</td>\n",
       "      <td>4340306774493623681</td>\n",
       "      <td>8940341205206233829</td>\n",
       "      <td>NaN</td>\n",
       "      <td>NaN</td>\n",
       "      <td>NaN</td>\n",
       "      <td>HTML</td>\n",
       "      <td>https://bitcoinmagazine.com/articles/ibm-wants...</td>\n",
       "      <td>IBM Wants to \"Evolve the Internet\" With Blockc...</td>\n",
       "      <td>The Aite Group projects the blockchain market ...</td>\n",
       "      <td>en</td>\n",
       "    </tr>\n",
       "  </tbody>\n",
       "</table>\n",
       "</div>"
      ],
      "text/plain": [
       "    timestamp        eventType            contentId       authorPersonId  \\\n",
       "0  1459192779  CONTENT REMOVED -6451309518266745024  4340306774493623681   \n",
       "1  1459193988   CONTENT SHARED -4110354420726924665  4340306774493623681   \n",
       "2  1459194146   CONTENT SHARED -7292285110016212249  4340306774493623681   \n",
       "3  1459194474   CONTENT SHARED -6151852268067518688  3891637997717104548   \n",
       "4  1459194497   CONTENT SHARED  2448026894306402386  4340306774493623681   \n",
       "\n",
       "       authorSessionId authorUserAgent authorRegion authorCountry contentType  \\\n",
       "0  8940341205206233829             NaN          NaN           NaN        HTML   \n",
       "1  8940341205206233829             NaN          NaN           NaN        HTML   \n",
       "2  8940341205206233829             NaN          NaN           NaN        HTML   \n",
       "3 -1457532940883382585             NaN          NaN           NaN        HTML   \n",
       "4  8940341205206233829             NaN          NaN           NaN        HTML   \n",
       "\n",
       "                                                 url  \\\n",
       "0  http://www.nytimes.com/2016/03/28/business/dea...   \n",
       "1  http://www.nytimes.com/2016/03/28/business/dea...   \n",
       "2  http://cointelegraph.com/news/bitcoin-future-w...   \n",
       "3  https://cloudplatform.googleblog.com/2016/03/G...   \n",
       "4  https://bitcoinmagazine.com/articles/ibm-wants...   \n",
       "\n",
       "                                               title  \\\n",
       "0  Ethereum, a Virtual Currency, Enables Transact...   \n",
       "1  Ethereum, a Virtual Currency, Enables Transact...   \n",
       "2  Bitcoin Future: When GBPcoin of Branson Wins O...   \n",
       "3                       Google Data Center 360° Tour   \n",
       "4  IBM Wants to \"Evolve the Internet\" With Blockc...   \n",
       "\n",
       "                                                text lang  \n",
       "0  All of this work is still very early. The firs...   en  \n",
       "1  All of this work is still very early. The firs...   en  \n",
       "2  The alarm clock wakes me at 8:00 with stream o...   en  \n",
       "3  We're excited to share the Google Data Center ...   en  \n",
       "4  The Aite Group projects the blockchain market ...   en  "
      ]
     },
     "execution_count": 3,
     "metadata": {},
     "output_type": "execute_result"
    }
   ],
   "source": [
    "shared_articles_df.head()"
   ]
  },
  {
   "cell_type": "code",
   "execution_count": 4,
   "id": "64991728",
   "metadata": {
    "colab": {
     "base_uri": "https://localhost:8080/"
    },
    "id": "64991728",
    "outputId": "de94bf52-6264-4d30-e2b1-8d15e9fdae9e"
   },
   "outputs": [
    {
     "data": {
      "text/plain": [
       "Index(['timestamp', 'eventType', 'contentId', 'authorPersonId',\n",
       "       'authorSessionId', 'authorUserAgent', 'authorRegion', 'authorCountry',\n",
       "       'contentType', 'url', 'title', 'text', 'lang'],\n",
       "      dtype='object')"
      ]
     },
     "execution_count": 4,
     "metadata": {},
     "output_type": "execute_result"
    }
   ],
   "source": [
    "shared_articles_df.columns"
   ]
  },
  {
   "cell_type": "code",
   "execution_count": 5,
   "id": "19c25508",
   "metadata": {
    "colab": {
     "base_uri": "https://localhost:8080/"
    },
    "id": "19c25508",
    "outputId": "e7a6b723-1908-47ba-cbf1-b05cc34c4061"
   },
   "outputs": [
    {
     "name": "stdout",
     "output_type": "stream",
     "text": [
      "Shape of shared_atricles_df: (3122, 13)\n"
     ]
    }
   ],
   "source": [
    "print('Shape of shared_atricles_df:',shared_articles_df.shape)"
   ]
  },
  {
   "cell_type": "code",
   "execution_count": 6,
   "id": "1883826b",
   "metadata": {
    "colab": {
     "base_uri": "https://localhost:8080/",
     "height": 445
    },
    "id": "1883826b",
    "outputId": "3bee3a5e-0f6e-4c6f-8497-df00249d70e3"
   },
   "outputs": [
    {
     "data": {
      "text/plain": [
       "Text(0.5, 1.0, 'Event Types')"
      ]
     },
     "execution_count": 6,
     "metadata": {},
     "output_type": "execute_result"
    },
    {
     "data": {
      "image/png": "[encoded data removed]",
      "text/plain": [
       "<Figure size 432x288 with 1 Axes>"
      ]
     },
     "metadata": {},
     "output_type": "display_data"
    }
   ],
   "source": [
    "# Plotting the pie chart\n",
    "shared_articles_df['eventType'].value_counts().plot(kind='pie')\n",
    "\n",
    "# Removing the label\n",
    "plt.ylabel('')  # Remove the y-label\n",
    "plt.xlabel('')  # Remove the x-label\n",
    "plt.title('Event Types')  # Add a title to the chart"
   ]
  },
  {
   "cell_type": "markdown",
   "id": "0cc21fb3",
   "metadata": {
    "id": "0cc21fb3"
   },
   "source": [
    "I will filter out the articles removed as they will not help in the recommendation."
   ]
  },
  {
   "cell_type": "code",
   "execution_count": 7,
   "id": "8001bc50",
   "metadata": {
    "id": "8001bc50"
   },
   "outputs": [],
   "source": [
    "shared_articles_df = shared_articles_df[shared_articles_df['eventType'] == 'CONTENT SHARED']"
   ]
  },
  {
   "cell_type": "code",
   "execution_count": 8,
   "id": "d737a047",
   "metadata": {
    "colab": {
     "base_uri": "https://localhost:8080/",
     "height": 652
    },
    "id": "d737a047",
    "outputId": "6ada812c-3e6f-4a45-a823-531c812417ac"
   },
   "outputs": [
    {
     "data": {
      "text/html": [
       "<div>\n",
       "<style scoped>\n",
       "    .dataframe tbody tr th:only-of-type {\n",
       "        vertical-align: middle;\n",
       "    }\n",
       "\n",
       "    .dataframe tbody tr th {\n",
       "        vertical-align: top;\n",
       "    }\n",
       "\n",
       "    .dataframe thead th {\n",
       "        text-align: right;\n",
       "    }\n",
       "</style>\n",
       "<table border=\"1\" class=\"dataframe\">\n",
       "  <thead>\n",
       "    <tr style=\"text-align: right;\">\n",
       "      <th></th>\n",
       "      <th>timestamp</th>\n",
       "      <th>eventType</th>\n",
       "      <th>contentId</th>\n",
       "      <th>authorPersonId</th>\n",
       "      <th>authorSessionId</th>\n",
       "      <th>authorUserAgent</th>\n",
       "      <th>authorRegion</th>\n",
       "      <th>authorCountry</th>\n",
       "      <th>contentType</th>\n",
       "      <th>url</th>\n",
       "      <th>title</th>\n",
       "      <th>text</th>\n",
       "      <th>lang</th>\n",
       "    </tr>\n",
       "  </thead>\n",
       "  <tbody>\n",
       "    <tr>\n",
       "      <th>2675</th>\n",
       "      <td>1477660745</td>\n",
       "      <td>CONTENT SHARED</td>\n",
       "      <td>1642787330067525131</td>\n",
       "      <td>-2820994773540913369</td>\n",
       "      <td>2754938799836633114</td>\n",
       "      <td>Mozilla/5.0 (Windows NT 10.0; WOW64) AppleWebK...</td>\n",
       "      <td>SP</td>\n",
       "      <td>BR</td>\n",
       "      <td>HTML</td>\n",
       "      <td>http://www.valor.com.br/empresas/4757687/dasa-...</td>\n",
       "      <td>Dasa compra maior rede de laboratórios do Nord...</td>\n",
       "      <td>SÃO PAULO - A Diagnósticos da América S.A. (Da...</td>\n",
       "      <td>pt</td>\n",
       "    </tr>\n",
       "    <tr>\n",
       "      <th>33</th>\n",
       "      <td>1459271181</td>\n",
       "      <td>CONTENT SHARED</td>\n",
       "      <td>2255603060224026824</td>\n",
       "      <td>4340306774493623681</td>\n",
       "      <td>-7292854281461484137</td>\n",
       "      <td>NaN</td>\n",
       "      <td>NaN</td>\n",
       "      <td>NaN</td>\n",
       "      <td>HTML</td>\n",
       "      <td>http://www.newsbtc.com/2016/03/29/french-senat...</td>\n",
       "      <td>French Senate Will Debate on Bitcoin Regulation</td>\n",
       "      <td>While the efforts by the French Senate to comb...</td>\n",
       "      <td>en</td>\n",
       "    </tr>\n",
       "    <tr>\n",
       "      <th>1256</th>\n",
       "      <td>1464982050</td>\n",
       "      <td>CONTENT SHARED</td>\n",
       "      <td>-5410531116380081703</td>\n",
       "      <td>2416280733544962613</td>\n",
       "      <td>3686082102675618374</td>\n",
       "      <td>NaN</td>\n",
       "      <td>NaN</td>\n",
       "      <td>NaN</td>\n",
       "      <td>HTML</td>\n",
       "      <td>http://www.mckinsey.com/industries/consumer-pa...</td>\n",
       "      <td>Meet the new Brazilian consumer</td>\n",
       "      <td>Amid one of the country's most severe recessio...</td>\n",
       "      <td>en</td>\n",
       "    </tr>\n",
       "    <tr>\n",
       "      <th>2834</th>\n",
       "      <td>1481047299</td>\n",
       "      <td>CONTENT SHARED</td>\n",
       "      <td>6407605752151817831</td>\n",
       "      <td>-8845298781299428018</td>\n",
       "      <td>19304028560323633</td>\n",
       "      <td>Mozilla/5.0 (Macintosh; Intel Mac OS X 10_12_1...</td>\n",
       "      <td>SP</td>\n",
       "      <td>BR</td>\n",
       "      <td>HTML</td>\n",
       "      <td>https://techcrunch.com/2016/12/06/seenit-wins-...</td>\n",
       "      <td>And the winner of Startup Battlefield at Disru...</td>\n",
       "      <td>4K movies come to the Google Play Movies &amp; TV ...</td>\n",
       "      <td>en</td>\n",
       "    </tr>\n",
       "    <tr>\n",
       "      <th>1961</th>\n",
       "      <td>1470162319</td>\n",
       "      <td>CONTENT SHARED</td>\n",
       "      <td>-908052164352446106</td>\n",
       "      <td>-2820994773540913369</td>\n",
       "      <td>1807329753509412871</td>\n",
       "      <td>NaN</td>\n",
       "      <td>NaN</td>\n",
       "      <td>NaN</td>\n",
       "      <td>HTML</td>\n",
       "      <td>http://hospitalar.com/pt/portal-de-noticias/bl...</td>\n",
       "      <td>IoT a favor do relacionamento médico-paciente</td>\n",
       "      <td>IoT a favor do relacionamento médico-paciente ...</td>\n",
       "      <td>pt</td>\n",
       "    </tr>\n",
       "  </tbody>\n",
       "</table>\n",
       "</div>"
      ],
      "text/plain": [
       "       timestamp       eventType            contentId       authorPersonId  \\\n",
       "2675  1477660745  CONTENT SHARED  1642787330067525131 -2820994773540913369   \n",
       "33    1459271181  CONTENT SHARED  2255603060224026824  4340306774493623681   \n",
       "1256  1464982050  CONTENT SHARED -5410531116380081703  2416280733544962613   \n",
       "2834  1481047299  CONTENT SHARED  6407605752151817831 -8845298781299428018   \n",
       "1961  1470162319  CONTENT SHARED  -908052164352446106 -2820994773540913369   \n",
       "\n",
       "          authorSessionId                                    authorUserAgent  \\\n",
       "2675  2754938799836633114  Mozilla/5.0 (Windows NT 10.0; WOW64) AppleWebK...   \n",
       "33   -7292854281461484137                                                NaN   \n",
       "1256  3686082102675618374                                                NaN   \n",
       "2834    19304028560323633  Mozilla/5.0 (Macintosh; Intel Mac OS X 10_12_1...   \n",
       "1961  1807329753509412871                                                NaN   \n",
       "\n",
       "     authorRegion authorCountry contentType  \\\n",
       "2675           SP            BR        HTML   \n",
       "33            NaN           NaN        HTML   \n",
       "1256          NaN           NaN        HTML   \n",
       "2834           SP            BR        HTML   \n",
       "1961          NaN           NaN        HTML   \n",
       "\n",
       "                                                    url  \\\n",
       "2675  http://www.valor.com.br/empresas/4757687/dasa-...   \n",
       "33    http://www.newsbtc.com/2016/03/29/french-senat...   \n",
       "1256  http://www.mckinsey.com/industries/consumer-pa...   \n",
       "2834  https://techcrunch.com/2016/12/06/seenit-wins-...   \n",
       "1961  http://hospitalar.com/pt/portal-de-noticias/bl...   \n",
       "\n",
       "                                                  title  \\\n",
       "2675  Dasa compra maior rede de laboratórios do Nord...   \n",
       "33      French Senate Will Debate on Bitcoin Regulation   \n",
       "1256                    Meet the new Brazilian consumer   \n",
       "2834  And the winner of Startup Battlefield at Disru...   \n",
       "1961      IoT a favor do relacionamento médico-paciente   \n",
       "\n",
       "                                                   text lang  \n",
       "2675  SÃO PAULO - A Diagnósticos da América S.A. (Da...   pt  \n",
       "33    While the efforts by the French Senate to comb...   en  \n",
       "1256  Amid one of the country's most severe recessio...   en  \n",
       "2834  4K movies come to the Google Play Movies & TV ...   en  \n",
       "1961  IoT a favor do relacionamento médico-paciente ...   pt  "
      ]
     },
     "execution_count": 8,
     "metadata": {},
     "output_type": "execute_result"
    }
   ],
   "source": [
    "shared_articles_df.sample(5)"
   ]
  },
  {
   "cell_type": "code",
   "execution_count": 9,
   "id": "ecdcf79e",
   "metadata": {
    "colab": {
     "base_uri": "https://localhost:8080/"
    },
    "id": "ecdcf79e",
    "outputId": "ad0a483c-d28d-46fb-d36d-3a928476d1a0"
   },
   "outputs": [
    {
     "name": "stdout",
     "output_type": "stream",
     "text": [
      "timestamp           0.000000\n",
      "eventType           0.000000\n",
      "contentId           0.000000\n",
      "authorPersonId      0.000000\n",
      "authorSessionId     0.000000\n",
      "authorUserAgent    33.333333\n",
      "authorRegion       33.333333\n",
      "authorCountry      33.333333\n",
      "contentType         0.000000\n",
      "url                 0.000000\n",
      "title               0.000000\n",
      "text                0.000000\n",
      "lang                0.000000\n",
      "dtype: float64\n"
     ]
    }
   ],
   "source": [
    "# Percentage of null values in shared_articles_df\n",
    "print((shared_articles_df.isnull().sum()/shared_articles_df.isnull().sum().sum())*100)"
   ]
  },
  {
   "cell_type": "code",
   "execution_count": 10,
   "id": "33aaafce",
   "metadata": {
    "colab": {
     "base_uri": "https://localhost:8080/"
    },
    "id": "33aaafce",
    "outputId": "a8acddb8-0330-483a-9f09-e4e5d449031e"
   },
   "outputs": [
    {
     "data": {
      "text/plain": [
       "1       1459193988\n",
       "2       1459194146\n",
       "3       1459194474\n",
       "4       1459194497\n",
       "5       1459194522\n",
       "           ...    \n",
       "3117    1487946604\n",
       "3118    1487947067\n",
       "3119    1488223224\n",
       "3120    1488300719\n",
       "3121    1488307871\n",
       "Name: timestamp, Length: 3047, dtype: int64"
      ]
     },
     "execution_count": 10,
     "metadata": {},
     "output_type": "execute_result"
    }
   ],
   "source": [
    "# Time when an event has occurred\n",
    "shared_articles_df['timestamp'] # this column is not helpful for our analysis so i will drop it"
   ]
  },
  {
   "cell_type": "code",
   "execution_count": 11,
   "id": "9fea91e5",
   "metadata": {
    "colab": {
     "base_uri": "https://localhost:8080/"
    },
    "id": "9fea91e5",
    "outputId": "5de8de42-6797-4483-e56a-40bc4c5a500d"
   },
   "outputs": [
    {
     "data": {
      "text/plain": [
       "array(['CONTENT SHARED'], dtype=object)"
      ]
     },
     "execution_count": 11,
     "metadata": {},
     "output_type": "execute_result"
    }
   ],
   "source": [
    "# Article shared or article removed at a particular timestamp\n",
    "shared_articles_df['eventType'].unique()"
   ]
  },
  {
   "cell_type": "code",
   "execution_count": 12,
   "id": "bc69a2dd",
   "metadata": {
    "colab": {
     "base_uri": "https://localhost:8080/"
    },
    "id": "bc69a2dd",
    "outputId": "247c9712-dbca-454b-fb4e-7bb5959e288d"
   },
   "outputs": [
    {
     "data": {
      "text/plain": [
       "1      -4110354420726924665\n",
       "2      -7292285110016212249\n",
       "3      -6151852268067518688\n",
       "4       2448026894306402386\n",
       "5      -2826566343807132236\n",
       "               ...         \n",
       "3117    9213260650272029784\n",
       "3118   -3295913657316686039\n",
       "3119    3618271604906293310\n",
       "3120    6607431762270322325\n",
       "3121    4109618890343020064\n",
       "Name: contentId, Length: 3047, dtype: int64"
      ]
     },
     "execution_count": 12,
     "metadata": {},
     "output_type": "execute_result"
    }
   ],
   "source": [
    "# Article Id\n",
    "shared_articles_df['contentId'] # this id has no use for my analysis"
   ]
  },
  {
   "cell_type": "code",
   "execution_count": 13,
   "id": "e6d9303b",
   "metadata": {
    "colab": {
     "base_uri": "https://localhost:8080/"
    },
    "id": "e6d9303b",
    "outputId": "e0263d1b-1503-4631-9165-68532e6cd425"
   },
   "outputs": [
    {
     "name": "stdout",
     "output_type": "stream",
     "text": [
      "1       4340306774493623681\n",
      "2       4340306774493623681\n",
      "3       3891637997717104548\n",
      "4       4340306774493623681\n",
      "5       4340306774493623681\n",
      "               ...         \n",
      "3117    3609194402293569455\n",
      "3118    6960073744377754728\n",
      "3119    1908339160857512799\n",
      "3120   -1393866732742189886\n",
      "3121    3891637997717104548\n",
      "Name: authorPersonId, Length: 3047, dtype: int64\n",
      "\n",
      "\n",
      "No. of unique values: 252\n"
     ]
    }
   ],
   "source": [
    "# Author Id\n",
    "print(shared_articles_df['authorPersonId'])\n",
    "print('\\n')\n",
    "print('No. of unique values:',shared_articles_df['authorPersonId'].nunique())"
   ]
  },
  {
   "cell_type": "code",
   "execution_count": 14,
   "id": "8ec21184",
   "metadata": {
    "colab": {
     "base_uri": "https://localhost:8080/"
    },
    "id": "8ec21184",
    "outputId": "f11bd262-b642-4db6-e8df-baa4c39e08c6"
   },
   "outputs": [
    {
     "name": "stdout",
     "output_type": "stream",
     "text": [
      "1    8940341205206233829\n",
      "2    8940341205206233829\n",
      "3   -1457532940883382585\n",
      "4    8940341205206233829\n",
      "5    8940341205206233829\n",
      "Name: authorSessionId, dtype: int64\n",
      "\n",
      "\n",
      "No. of unique values: 2010\n"
     ]
    }
   ],
   "source": [
    "# Session ID of the author. The author might have created the articles in different sessions.\n",
    "print(shared_articles_df['authorSessionId'].head(5))\n",
    "print('\\n')\n",
    "print('No. of unique values:',shared_articles_df['authorSessionId'].nunique())\n",
    "# Since this is contextual and we focus on attributes rather than transactional details, we will remove this column."
   ]
  },
  {
   "cell_type": "code",
   "execution_count": 15,
   "id": "a957a29b",
   "metadata": {
    "colab": {
     "base_uri": "https://localhost:8080/"
    },
    "id": "a957a29b",
    "outputId": "96dc844f-af3a-4a4c-b8b8-7a42df13ca3c"
   },
   "outputs": [
    {
     "name": "stdout",
     "output_type": "stream",
     "text": [
      "3117    Mozilla/5.0 (Windows NT 10.0; WOW64) AppleWebK...\n",
      "3118    Mozilla/5.0 (Macintosh; Intel Mac OS X 10_12_3...\n",
      "3119    Mozilla/5.0 (Macintosh; Intel Mac OS X 10_12_0...\n",
      "3120    Mozilla/5.0 (X11; Linux x86_64) AppleWebKit/53...\n",
      "3121    Mozilla/5.0 (X11; Linux x86_64) AppleWebKit/53...\n",
      "Name: authorUserAgent, dtype: object\n",
      "\n",
      "\n",
      "No. of unique values: 114\n"
     ]
    }
   ],
   "source": [
    "# The browser author used.\n",
    "print(shared_articles_df['authorUserAgent'].tail(5))\n",
    "print('\\n')\n",
    "print('No. of unique values:',shared_articles_df['authorUserAgent'].nunique())"
   ]
  },
  {
   "cell_type": "code",
   "execution_count": 16,
   "id": "da5ff305",
   "metadata": {
    "colab": {
     "base_uri": "https://localhost:8080/",
     "height": 466
    },
    "id": "da5ff305",
    "outputId": "f89de351-04e1-451a-e730-86827f99afb9"
   },
   "outputs": [
    {
     "data": {
      "text/plain": [
       "<AxesSubplot:>"
      ]
     },
     "execution_count": 16,
     "metadata": {},
     "output_type": "execute_result"
    },
    {
     "data": {
      "image/png": "[encoded data removed]",
      "text/plain": [
       "<Figure size 432x288 with 1 Axes>"
      ]
     },
     "metadata": {
      "needs_background": "light"
     },
     "output_type": "display_data"
    }
   ],
   "source": [
    "# states/regions of the author.\n",
    "shared_articles_df['authorRegion'].value_counts().plot(kind='bar')"
   ]
  },
  {
   "cell_type": "code",
   "execution_count": 17,
   "id": "d9348911",
   "metadata": {
    "colab": {
     "base_uri": "https://localhost:8080/",
     "height": 452
    },
    "id": "d9348911",
    "outputId": "59c4fb7c-cef3-45b6-846b-93d8bba4c9f0"
   },
   "outputs": [
    {
     "data": {
      "text/plain": [
       "<AxesSubplot:>"
      ]
     },
     "execution_count": 17,
     "metadata": {},
     "output_type": "execute_result"
    },
    {
     "data": {
      "image/png": "[encoded data removed]",
      "text/plain": [
       "<Figure size 432x288 with 1 Axes>"
      ]
     },
     "metadata": {
      "needs_background": "light"
     },
     "output_type": "display_data"
    }
   ],
   "source": [
    "# Country of the author of the articles\n",
    "shared_articles_df['authorCountry'].value_counts().plot(kind='bar')"
   ]
  },
  {
   "cell_type": "code",
   "execution_count": 18,
   "id": "85e4e0ff",
   "metadata": {
    "colab": {
     "base_uri": "https://localhost:8080/",
     "height": 477
    },
    "id": "85e4e0ff",
    "outputId": "8e72a5ea-c323-483e-cdf7-03971eecd952"
   },
   "outputs": [
    {
     "data": {
      "text/plain": [
       "<AxesSubplot:>"
      ]
     },
     "execution_count": 18,
     "metadata": {},
     "output_type": "execute_result"
    },
    {
     "data": {
      "image/png": "[encoded data removed]",
      "text/plain": [
       "<Figure size 432x288 with 1 Axes>"
      ]
     },
     "metadata": {
      "needs_background": "light"
     },
     "output_type": "display_data"
    }
   ],
   "source": [
    "#  The formats articles are shared\n",
    "shared_articles_df['contentType'].value_counts().plot(kind='bar')"
   ]
  },
  {
   "cell_type": "code",
   "execution_count": 19,
   "id": "ce30c909",
   "metadata": {
    "colab": {
     "base_uri": "https://localhost:8080/"
    },
    "id": "ce30c909",
    "outputId": "5d4dc06c-eb41-4c36-bcd6-e01dde1f005e"
   },
   "outputs": [
    {
     "data": {
      "text/plain": [
       "1    http://www.nytimes.com/2016/03/28/business/dea...\n",
       "2    http://cointelegraph.com/news/bitcoin-future-w...\n",
       "3    https://cloudplatform.googleblog.com/2016/03/G...\n",
       "4    https://bitcoinmagazine.com/articles/ibm-wants...\n",
       "5    http://www.coindesk.com/ieee-blockchain-oxford...\n",
       "Name: url, dtype: object"
      ]
     },
     "execution_count": 19,
     "metadata": {},
     "output_type": "execute_result"
    }
   ],
   "source": [
    "# URL of the articles\n",
    "shared_articles_df['url'].head()"
   ]
  },
  {
   "cell_type": "code",
   "execution_count": 20,
   "id": "684da0a3",
   "metadata": {
    "colab": {
     "base_uri": "https://localhost:8080/"
    },
    "id": "684da0a3",
    "outputId": "0a6f271d-f0c1-4a2a-ce8e-26cac5df3882"
   },
   "outputs": [
    {
     "data": {
      "text/plain": [
       "1    Ethereum, a Virtual Currency, Enables Transact...\n",
       "2    Bitcoin Future: When GBPcoin of Branson Wins O...\n",
       "3                         Google Data Center 360° Tour\n",
       "4    IBM Wants to \"Evolve the Internet\" With Blockc...\n",
       "5    IEEE to Talk Blockchain at Cloud Computing Oxf...\n",
       "Name: title, dtype: object"
      ]
     },
     "execution_count": 20,
     "metadata": {},
     "output_type": "execute_result"
    }
   ],
   "source": [
    "# Title/headline of the articles\n",
    "shared_articles_df['title'].head()"
   ]
  },
  {
   "cell_type": "code",
   "execution_count": 21,
   "id": "646b473b",
   "metadata": {
    "colab": {
     "base_uri": "https://localhost:8080/"
    },
    "id": "646b473b",
    "outputId": "33b4cb3c-1353-46a3-de69-dc0904dca1cb"
   },
   "outputs": [
    {
     "data": {
      "text/plain": [
       "1    All of this work is still very early. The firs...\n",
       "2    The alarm clock wakes me at 8:00 with stream o...\n",
       "3    We're excited to share the Google Data Center ...\n",
       "4    The Aite Group projects the blockchain market ...\n",
       "5    One of the largest and oldest organizations fo...\n",
       "Name: text, dtype: object"
      ]
     },
     "execution_count": 21,
     "metadata": {},
     "output_type": "execute_result"
    }
   ],
   "source": [
    "# Content of the articles\n",
    "shared_articles_df['text'].head() # most critical column in our analysis"
   ]
  },
  {
   "cell_type": "code",
   "execution_count": 22,
   "id": "c8184c9e",
   "metadata": {
    "colab": {
     "base_uri": "https://localhost:8080/",
     "height": 450
    },
    "id": "c8184c9e",
    "outputId": "94702c8c-187e-47f5-cbfb-aa05cdc7d8fd"
   },
   "outputs": [
    {
     "data": {
      "text/plain": [
       "<AxesSubplot:>"
      ]
     },
     "execution_count": 22,
     "metadata": {},
     "output_type": "execute_result"
    },
    {
     "data": {
      "image/png": "[encoded data removed]",
      "text/plain": [
       "<Figure size 432x288 with 1 Axes>"
      ]
     },
     "metadata": {
      "needs_background": "light"
     },
     "output_type": "display_data"
    }
   ],
   "source": [
    "# language in which the article is written\n",
    "shared_articles_df['lang'].value_counts().plot(kind='bar')"
   ]
  },
  {
   "cell_type": "code",
   "execution_count": 23,
   "id": "e1c5cc46",
   "metadata": {
    "id": "e1c5cc46"
   },
   "outputs": [],
   "source": [
    "shared_articles_df = shared_articles_df[shared_articles_df['lang'] == 'en']"
   ]
  },
  {
   "cell_type": "code",
   "execution_count": 24,
   "id": "c7fbd0fd",
   "metadata": {
    "colab": {
     "base_uri": "https://localhost:8080/"
    },
    "id": "c7fbd0fd",
    "outputId": "7d200e45-0f21-41c5-95bd-a64d77d70d3d"
   },
   "outputs": [
    {
     "data": {
      "text/plain": [
       "(2211, 13)"
      ]
     },
     "execution_count": 24,
     "metadata": {},
     "output_type": "execute_result"
    }
   ],
   "source": [
    "shared_articles_df.shape"
   ]
  },
  {
   "cell_type": "code",
   "execution_count": 25,
   "id": "41b48586",
   "metadata": {
    "id": "41b48586"
   },
   "outputs": [],
   "source": [
    "# Data preprocessing\n",
    "shared_articles_df = shared_articles_df[['contentId','authorPersonId','title', 'text','url']]"
   ]
  },
  {
   "cell_type": "code",
   "execution_count": 26,
   "id": "b817af10",
   "metadata": {
    "colab": {
     "base_uri": "https://localhost:8080/",
     "height": 337
    },
    "id": "b817af10",
    "outputId": "f933be98-0a1a-4e9a-be5d-8834e66f6099"
   },
   "outputs": [
    {
     "data": {
      "text/html": [
       "<div>\n",
       "<style scoped>\n",
       "    .dataframe tbody tr th:only-of-type {\n",
       "        vertical-align: middle;\n",
       "    }\n",
       "\n",
       "    .dataframe tbody tr th {\n",
       "        vertical-align: top;\n",
       "    }\n",
       "\n",
       "    .dataframe thead th {\n",
       "        text-align: right;\n",
       "    }\n",
       "</style>\n",
       "<table border=\"1\" class=\"dataframe\">\n",
       "  <thead>\n",
       "    <tr style=\"text-align: right;\">\n",
       "      <th></th>\n",
       "      <th>contentId</th>\n",
       "      <th>authorPersonId</th>\n",
       "      <th>title</th>\n",
       "      <th>text</th>\n",
       "      <th>url</th>\n",
       "    </tr>\n",
       "  </thead>\n",
       "  <tbody>\n",
       "    <tr>\n",
       "      <th>1</th>\n",
       "      <td>-4110354420726924665</td>\n",
       "      <td>4340306774493623681</td>\n",
       "      <td>Ethereum, a Virtual Currency, Enables Transact...</td>\n",
       "      <td>All of this work is still very early. The firs...</td>\n",
       "      <td>http://www.nytimes.com/2016/03/28/business/dea...</td>\n",
       "    </tr>\n",
       "    <tr>\n",
       "      <th>2</th>\n",
       "      <td>-7292285110016212249</td>\n",
       "      <td>4340306774493623681</td>\n",
       "      <td>Bitcoin Future: When GBPcoin of Branson Wins O...</td>\n",
       "      <td>The alarm clock wakes me at 8:00 with stream o...</td>\n",
       "      <td>http://cointelegraph.com/news/bitcoin-future-w...</td>\n",
       "    </tr>\n",
       "    <tr>\n",
       "      <th>3</th>\n",
       "      <td>-6151852268067518688</td>\n",
       "      <td>3891637997717104548</td>\n",
       "      <td>Google Data Center 360° Tour</td>\n",
       "      <td>We're excited to share the Google Data Center ...</td>\n",
       "      <td>https://cloudplatform.googleblog.com/2016/03/G...</td>\n",
       "    </tr>\n",
       "    <tr>\n",
       "      <th>4</th>\n",
       "      <td>2448026894306402386</td>\n",
       "      <td>4340306774493623681</td>\n",
       "      <td>IBM Wants to \"Evolve the Internet\" With Blockc...</td>\n",
       "      <td>The Aite Group projects the blockchain market ...</td>\n",
       "      <td>https://bitcoinmagazine.com/articles/ibm-wants...</td>\n",
       "    </tr>\n",
       "    <tr>\n",
       "      <th>5</th>\n",
       "      <td>-2826566343807132236</td>\n",
       "      <td>4340306774493623681</td>\n",
       "      <td>IEEE to Talk Blockchain at Cloud Computing Oxf...</td>\n",
       "      <td>One of the largest and oldest organizations fo...</td>\n",
       "      <td>http://www.coindesk.com/ieee-blockchain-oxford...</td>\n",
       "    </tr>\n",
       "  </tbody>\n",
       "</table>\n",
       "</div>"
      ],
      "text/plain": [
       "             contentId       authorPersonId  \\\n",
       "1 -4110354420726924665  4340306774493623681   \n",
       "2 -7292285110016212249  4340306774493623681   \n",
       "3 -6151852268067518688  3891637997717104548   \n",
       "4  2448026894306402386  4340306774493623681   \n",
       "5 -2826566343807132236  4340306774493623681   \n",
       "\n",
       "                                               title  \\\n",
       "1  Ethereum, a Virtual Currency, Enables Transact...   \n",
       "2  Bitcoin Future: When GBPcoin of Branson Wins O...   \n",
       "3                       Google Data Center 360° Tour   \n",
       "4  IBM Wants to \"Evolve the Internet\" With Blockc...   \n",
       "5  IEEE to Talk Blockchain at Cloud Computing Oxf...   \n",
       "\n",
       "                                                text  \\\n",
       "1  All of this work is still very early. The firs...   \n",
       "2  The alarm clock wakes me at 8:00 with stream o...   \n",
       "3  We're excited to share the Google Data Center ...   \n",
       "4  The Aite Group projects the blockchain market ...   \n",
       "5  One of the largest and oldest organizations fo...   \n",
       "\n",
       "                                                 url  \n",
       "1  http://www.nytimes.com/2016/03/28/business/dea...  \n",
       "2  http://cointelegraph.com/news/bitcoin-future-w...  \n",
       "3  https://cloudplatform.googleblog.com/2016/03/G...  \n",
       "4  https://bitcoinmagazine.com/articles/ibm-wants...  \n",
       "5  http://www.coindesk.com/ieee-blockchain-oxford...  "
      ]
     },
     "execution_count": 26,
     "metadata": {},
     "output_type": "execute_result"
    }
   ],
   "source": [
    "shared_articles_df.head()"
   ]
  },
  {
   "cell_type": "code",
   "execution_count": 27,
   "id": "3fea5e78",
   "metadata": {
    "colab": {
     "base_uri": "https://localhost:8080/"
    },
    "id": "3fea5e78",
    "outputId": "06693924-58e8-4691-a580-690bcda10f72"
   },
   "outputs": [
    {
     "data": {
      "text/plain": [
       "contentId         0\n",
       "authorPersonId    0\n",
       "title             0\n",
       "text              0\n",
       "url               0\n",
       "dtype: int64"
      ]
     },
     "execution_count": 27,
     "metadata": {},
     "output_type": "execute_result"
    }
   ],
   "source": [
    "shared_articles_df.isnull().sum()"
   ]
  },
  {
   "cell_type": "code",
   "execution_count": 28,
   "id": "obcpWEyduU62",
   "metadata": {
    "colab": {
     "base_uri": "https://localhost:8080/"
    },
    "id": "obcpWEyduU62",
    "outputId": "ed6bbcbb-81ae-471b-97b0-8483a1f9d0fa"
   },
   "outputs": [],
   "source": [
    "shared_articles_df = shared_articles_df[['title','text','url']]"
   ]
  },
  {
   "cell_type": "code",
   "execution_count": 29,
   "id": "3a28a6ba",
   "metadata": {},
   "outputs": [
    {
     "data": {
      "text/plain": [
       "title    object\n",
       "text     object\n",
       "url      object\n",
       "dtype: object"
      ]
     },
     "execution_count": 29,
     "metadata": {},
     "output_type": "execute_result"
    }
   ],
   "source": [
    "shared_articles_df.dtypes"
   ]
  },
  {
   "cell_type": "code",
   "execution_count": 30,
   "id": "hpbkWa7wwKwh",
   "metadata": {
    "id": "hpbkWa7wwKwh"
   },
   "outputs": [],
   "source": [
    "shared_articles_df['text'] = shared_articles_df['text'].astype(str).apply(lambda x: x.lower())"
   ]
  },
  {
   "cell_type": "code",
   "execution_count": 31,
   "id": "SlImw-C7xZ2r",
   "metadata": {
    "colab": {
     "base_uri": "https://localhost:8080/"
    },
    "id": "SlImw-C7xZ2r",
    "outputId": "3670d6df-3600-4283-8082-0e7b08294cec"
   },
   "outputs": [
    {
     "name": "stderr",
     "output_type": "stream",
     "text": [
      "[nltk_data] Downloading package wordnet to\n",
      "[nltk_data]     C:\\Users\\HP\\AppData\\Roaming\\nltk_data...\n",
      "[nltk_data]   Package wordnet is already up-to-date!\n"
     ]
    },
    {
     "data": {
      "text/plain": [
       "True"
      ]
     },
     "execution_count": 31,
     "metadata": {},
     "output_type": "execute_result"
    }
   ],
   "source": [
    "# Download the WordNet lemmatization resource (if not already downloaded)\n",
    "nltk.download('wordnet')"
   ]
  },
  {
   "cell_type": "code",
   "execution_count": 32,
   "id": "sdb0dUbmxbrf",
   "metadata": {
    "id": "sdb0dUbmxbrf"
   },
   "outputs": [],
   "source": [
    "# Create an instance of the WordNetLemmatizer\n",
    "lemmatizer = WordNetLemmatizer()"
   ]
  },
  {
   "cell_type": "code",
   "execution_count": 33,
   "id": "CopNSTBaxEZs",
   "metadata": {
    "id": "CopNSTBaxEZs"
   },
   "outputs": [],
   "source": [
    "def lemmatize(text):\n",
    "    y=[]\n",
    "    for i in text.split():\n",
    "        y.append(lemmatizer.lemmatize(i))\n",
    "\n",
    "    return \"  \".join(y)"
   ]
  },
  {
   "cell_type": "code",
   "execution_count": 34,
   "id": "g1nsBnF0xEdV",
   "metadata": {
    "id": "g1nsBnF0xEdV"
   },
   "outputs": [],
   "source": [
    "shared_articles_df['text']=shared_articles_df['text'].apply(lemmatize)"
   ]
  },
  {
   "cell_type": "code",
   "execution_count": 35,
   "id": "Rulb53cRx8jM",
   "metadata": {
    "colab": {
     "base_uri": "https://localhost:8080/",
     "height": 337
    },
    "id": "Rulb53cRx8jM",
    "outputId": "b87829df-7ccd-47cf-87aa-4f94694f8077"
   },
   "outputs": [
    {
     "data": {
      "text/html": [
       "<div>\n",
       "<style scoped>\n",
       "    .dataframe tbody tr th:only-of-type {\n",
       "        vertical-align: middle;\n",
       "    }\n",
       "\n",
       "    .dataframe tbody tr th {\n",
       "        vertical-align: top;\n",
       "    }\n",
       "\n",
       "    .dataframe thead th {\n",
       "        text-align: right;\n",
       "    }\n",
       "</style>\n",
       "<table border=\"1\" class=\"dataframe\">\n",
       "  <thead>\n",
       "    <tr style=\"text-align: right;\">\n",
       "      <th></th>\n",
       "      <th>title</th>\n",
       "      <th>text</th>\n",
       "      <th>url</th>\n",
       "    </tr>\n",
       "  </thead>\n",
       "  <tbody>\n",
       "    <tr>\n",
       "      <th>1</th>\n",
       "      <td>Ethereum, a Virtual Currency, Enables Transact...</td>\n",
       "      <td>all  of  this  work  is  still  very  early.  ...</td>\n",
       "      <td>http://www.nytimes.com/2016/03/28/business/dea...</td>\n",
       "    </tr>\n",
       "    <tr>\n",
       "      <th>2</th>\n",
       "      <td>Bitcoin Future: When GBPcoin of Branson Wins O...</td>\n",
       "      <td>the  alarm  clock  wake  me  at  8:00  with  s...</td>\n",
       "      <td>http://cointelegraph.com/news/bitcoin-future-w...</td>\n",
       "    </tr>\n",
       "    <tr>\n",
       "      <th>3</th>\n",
       "      <td>Google Data Center 360° Tour</td>\n",
       "      <td>we're  excited  to  share  the  google  data  ...</td>\n",
       "      <td>https://cloudplatform.googleblog.com/2016/03/G...</td>\n",
       "    </tr>\n",
       "    <tr>\n",
       "      <th>4</th>\n",
       "      <td>IBM Wants to \"Evolve the Internet\" With Blockc...</td>\n",
       "      <td>the  aite  group  project  the  blockchain  ma...</td>\n",
       "      <td>https://bitcoinmagazine.com/articles/ibm-wants...</td>\n",
       "    </tr>\n",
       "    <tr>\n",
       "      <th>5</th>\n",
       "      <td>IEEE to Talk Blockchain at Cloud Computing Oxf...</td>\n",
       "      <td>one  of  the  largest  and  oldest  organizati...</td>\n",
       "      <td>http://www.coindesk.com/ieee-blockchain-oxford...</td>\n",
       "    </tr>\n",
       "  </tbody>\n",
       "</table>\n",
       "</div>"
      ],
      "text/plain": [
       "                                               title  \\\n",
       "1  Ethereum, a Virtual Currency, Enables Transact...   \n",
       "2  Bitcoin Future: When GBPcoin of Branson Wins O...   \n",
       "3                       Google Data Center 360° Tour   \n",
       "4  IBM Wants to \"Evolve the Internet\" With Blockc...   \n",
       "5  IEEE to Talk Blockchain at Cloud Computing Oxf...   \n",
       "\n",
       "                                                text  \\\n",
       "1  all  of  this  work  is  still  very  early.  ...   \n",
       "2  the  alarm  clock  wake  me  at  8:00  with  s...   \n",
       "3  we're  excited  to  share  the  google  data  ...   \n",
       "4  the  aite  group  project  the  blockchain  ma...   \n",
       "5  one  of  the  largest  and  oldest  organizati...   \n",
       "\n",
       "                                                 url  \n",
       "1  http://www.nytimes.com/2016/03/28/business/dea...  \n",
       "2  http://cointelegraph.com/news/bitcoin-future-w...  \n",
       "3  https://cloudplatform.googleblog.com/2016/03/G...  \n",
       "4  https://bitcoinmagazine.com/articles/ibm-wants...  \n",
       "5  http://www.coindesk.com/ieee-blockchain-oxford...  "
      ]
     },
     "execution_count": 35,
     "metadata": {},
     "output_type": "execute_result"
    }
   ],
   "source": [
    "shared_articles_df.head()"
   ]
  },
  {
   "cell_type": "code",
   "execution_count": 36,
   "id": "957bd153",
   "metadata": {},
   "outputs": [
    {
     "data": {
      "text/plain": [
       "20"
      ]
     },
     "execution_count": 36,
     "metadata": {},
     "output_type": "execute_result"
    }
   ],
   "source": [
    "shared_articles_df.duplicated().sum()"
   ]
  },
  {
   "cell_type": "code",
   "execution_count": 37,
   "id": "d4c3b813",
   "metadata": {},
   "outputs": [],
   "source": [
    "shared_articles_df.drop_duplicates(inplace=True)"
   ]
  },
  {
   "cell_type": "code",
   "execution_count": 38,
   "id": "GmWNuoDkxs2R",
   "metadata": {
    "id": "GmWNuoDkxs2R"
   },
   "outputs": [],
   "source": [
    "# Create TF-IDF vectorizer\n",
    "tfidf_vectorizer = TfidfVectorizer(stop_words='english')\n",
    "\n",
    "# Create TF-IDF matrix for the article text\n",
    "tfidf_matrix = tfidf_vectorizer.fit_transform(shared_articles_df['text'])\n",
    "\n",
    "# Calculate cosine similarity matrix\n",
    "cosine_sim = cosine_similarity(tfidf_matrix, tfidf_matrix)"
   ]
  },
  {
   "cell_type": "code",
   "execution_count": 39,
   "id": "2PuzOpKzxs53",
   "metadata": {
    "id": "2PuzOpKzxs53"
   },
   "outputs": [],
   "source": [
    "# Function to get top N similar articles based on text similarity\n",
    "def get_similar_articles(title, cosine_sim_matrix, N):\n",
    "    # Transform the input text into a TF-IDF vector\n",
    "    input_vector = tfidf_vectorizer.transform([title])\n",
    "\n",
    "    # Calculate the similarity scores between the input vector and all articles\n",
    "    sim_scores = cosine_similarity(input_vector, tfidf_matrix)\n",
    "\n",
    "    # Sort the articles based on similarity scores\n",
    "    sim_scores = sim_scores.flatten()\n",
    "    sorted_indices = sim_scores.argsort()[::-1]\n",
    "\n",
    "    # Get the top N similar articles\n",
    "    top_articles = sorted_indices[1:N+1]\n",
    "\n",
    "    # Extract the desired information for the recommended articles\n",
    "    recommended_articles = shared_articles_df.iloc[top_articles]\n",
    "    recommended_articles = recommended_articles[['title', 'url']]\n",
    "\n",
    "    # Return the recommended articles\n",
    "    return recommended_articles\n"
   ]
  },
  {
   "cell_type": "code",
   "execution_count": 40,
   "id": "d42262a1",
   "metadata": {
    "id": "d42262a1"
   },
   "outputs": [],
   "source": [
    "# Example usage\n",
    "title = \"Hiri wants to fix the workplace email problem.\"\n",
    "num_recommendations = 5  # Number of recommendations to generate\n",
    "\n",
    "recommended_articles = get_similar_articles(title, cosine_sim, num_recommendations)"
   ]
  },
  {
   "cell_type": "code",
   "execution_count": 41,
   "id": "ng4okZmnsFfL",
   "metadata": {
    "colab": {
     "base_uri": "https://localhost:8080/",
     "height": 206
    },
    "id": "ng4okZmnsFfL",
    "outputId": "9abbc25f-d5c0-4f78-e412-2cfa0708749d"
   },
   "outputs": [
    {
     "data": {
      "text/html": [
       "<div>\n",
       "<style scoped>\n",
       "    .dataframe tbody tr th:only-of-type {\n",
       "        vertical-align: middle;\n",
       "    }\n",
       "\n",
       "    .dataframe tbody tr th {\n",
       "        vertical-align: top;\n",
       "    }\n",
       "\n",
       "    .dataframe thead th {\n",
       "        text-align: right;\n",
       "    }\n",
       "</style>\n",
       "<table border=\"1\" class=\"dataframe\">\n",
       "  <thead>\n",
       "    <tr style=\"text-align: right;\">\n",
       "      <th></th>\n",
       "      <th>title</th>\n",
       "      <th>url</th>\n",
       "    </tr>\n",
       "  </thead>\n",
       "  <tbody>\n",
       "    <tr>\n",
       "      <th>2545</th>\n",
       "      <td>Facebook Workplace officially launches on the ...</td>\n",
       "      <td>https://9to5mac.com/2016/10/10/facebook-workpl...</td>\n",
       "    </tr>\n",
       "    <tr>\n",
       "      <th>674</th>\n",
       "      <td>Email Isn't The Thing You're Bad At</td>\n",
       "      <td>https://glyph.twistedmatrix.com/2016/04/email-...</td>\n",
       "    </tr>\n",
       "    <tr>\n",
       "      <th>1068</th>\n",
       "      <td>20 Percent Will Stop Reading Your Email If You...</td>\n",
       "      <td>http://www.inc.com/minda-zetlin/the-simple-mis...</td>\n",
       "    </tr>\n",
       "    <tr>\n",
       "      <th>2165</th>\n",
       "      <td>AI Is Here to Help You Write Emails People Wil...</td>\n",
       "      <td>http://www.wired.com/2016/08/boomerang-using-a...</td>\n",
       "    </tr>\n",
       "    <tr>\n",
       "      <th>1291</th>\n",
       "      <td>Measuring email effectiveness in retail banking</td>\n",
       "      <td>http://marketingland.com/measuring-email-effec...</td>\n",
       "    </tr>\n",
       "  </tbody>\n",
       "</table>\n",
       "</div>"
      ],
      "text/plain": [
       "                                                  title  \\\n",
       "2545  Facebook Workplace officially launches on the ...   \n",
       "674                 Email Isn't The Thing You're Bad At   \n",
       "1068  20 Percent Will Stop Reading Your Email If You...   \n",
       "2165  AI Is Here to Help You Write Emails People Wil...   \n",
       "1291    Measuring email effectiveness in retail banking   \n",
       "\n",
       "                                                    url  \n",
       "2545  https://9to5mac.com/2016/10/10/facebook-workpl...  \n",
       "674   https://glyph.twistedmatrix.com/2016/04/email-...  \n",
       "1068  http://www.inc.com/minda-zetlin/the-simple-mis...  \n",
       "2165  http://www.wired.com/2016/08/boomerang-using-a...  \n",
       "1291  http://marketingland.com/measuring-email-effec...  "
      ]
     },
     "execution_count": 41,
     "metadata": {},
     "output_type": "execute_result"
    }
   ],
   "source": [
    "recommended_articles"
   ]
  },
  {
   "cell_type": "code",
   "execution_count": 42,
   "id": "5ytPfIWay72J",
   "metadata": {
    "id": "5ytPfIWay72J"
   },
   "outputs": [],
   "source": [
    "pickle.dump(shared_articles_df,open('article_df.pkl','wb'))"
   ]
  },
  {
   "cell_type": "code",
   "execution_count": 43,
   "id": "44b98286",
   "metadata": {},
   "outputs": [],
   "source": [
    "pickle.dump(cosine_sim,open('cosine_sim.pkl','wb'))"
   ]
  },
  {
   "cell_type": "code",
   "execution_count": null,
   "id": "90991433",
   "metadata": {},
   "outputs": [],
   "source": []
  }
 ],
 "metadata": {
  "accelerator": "GPU",
  "colab": {
   "gpuType": "T4",
   "provenance": []
  },
  "kernelspec": {
   "display_name": "Python 3 (ipykernel)",
   "language": "python",
   "name": "python3"
  },
  "language_info": {
   "codemirror_mode": {
    "name": "ipython",
    "version": 3
   },
   "file_extension": ".py",
   "mimetype": "text/x-python",
   "name": "python",
   "nbconvert_exporter": "python",
   "pygments_lexer": "ipython3",
   "version": "3.9.7"
  }
 },
 "nbformat": 4,
 "nbformat_minor": 5
}
